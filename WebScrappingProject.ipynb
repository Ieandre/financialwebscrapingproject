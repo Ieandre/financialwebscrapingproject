{
  "nbformat": 4,
  "nbformat_minor": 0,
  "metadata": {
    "colab": {
      "name": "WebScrappingProject",
      "provenance": [],
      "collapsed_sections": [],
      "authorship_tag": "ABX9TyOx28+sXrarFg9JGS8F+bIE",
      "include_colab_link": true
    },
    "kernelspec": {
      "name": "python3",
      "display_name": "Python 3"
    },
    "language_info": {
      "name": "python"
    }
  },
  "cells": [
    {
      "cell_type": "markdown",
      "metadata": {
        "id": "view-in-github",
        "colab_type": "text"
      },
      "source": [
        "<a href=\"https://colab.research.google.com/github/Ieandre/webscrapingproject/blob/main/WebScrappingProject.ipynb\" target=\"_parent\"><img src=\"https://colab.research.google.com/assets/colab-badge.svg\" alt=\"Open In Colab\"/></a>"
      ]
    },
    {
      "cell_type": "markdown",
      "source": [
        "# Installation des librairies demandées"
      ],
      "metadata": {
        "id": "WkR-Q88plBWI"
      }
    },
    {
      "cell_type": "code",
      "execution_count": null,
      "metadata": {
        "colab": {
          "base_uri": "https://localhost:8080/"
        },
        "id": "LnG33uxIk6Qp",
        "outputId": "144a9781-37a6-422c-a6d0-5617d5715ded"
      },
      "outputs": [
        {
          "output_type": "stream",
          "name": "stdout",
          "text": [
            "Requirement already satisfied: beautifulsoup4 in /usr/local/lib/python3.7/dist-packages (4.6.3)\n"
          ]
        }
      ],
      "source": [
        "pip install beautifulsoup4"
      ]
    },
    {
      "cell_type": "code",
      "source": [
        "import urllib.request\n",
        "import csv\n",
        "from bs4 import BeautifulSoup\n",
        "f = open(\"test.csv\", \"w\", newline=\"\")\n",
        "writer = csv.writer(f)\n",
        "soup = BeautifulSoup(urllib.request.urlopen('https://www.zonebourse.com/cours/action/ORANGE-4649/fondamentaux/'), 'lxml')\n",
        "\n",
        "tableau1 = soup('table', {\"class\" : \"BordCollapseYear2\"})[0]\n",
        "tableau2 = soup('table', {\"class\" : \"BordCollapseYear2\"})[1]\n",
        "\n",
        "\n",
        "\n",
        "capitalisation = tableau1.findAll('tr')[5].get_text(\" \")\n",
        "print(capitalisation)\n",
        "\n",
        "\n",
        "per = tableau1.findAll('tr')[3].get_text(\" \")\n",
        "print(per)\n",
        "\n",
        "\n",
        "bna = tableau2.findAll('tr')[8].get_text(\" \")\n",
        "print(bna)\n",
        "\n",
        "\n",
        "\n",
        "\n",
        "\n",
        "\n",
        "\n",
        "\n"
      ],
      "metadata": {
        "colab": {
          "base_uri": "https://localhost:8080/"
        },
        "id": "KJMeuAiWldwH",
        "outputId": "c921943f-73cd-4a03-865d-fee98b5dda38"
      },
      "execution_count": null,
      "outputs": [
        {
          "output_type": "stream",
          "name": "stdout",
          "text": [
            "\n",
            " Capitalisation / CA \n",
            " 0,94x 0,94x 0,91x 0,82x 0,61x 0,66x 0,65x 0,64x \n",
            "\n",
            "\n",
            " PER \n",
            " 13,9x 23,3x 22,8x 12,9x 5,69x -25,2x 9,71x 9,07x \n",
            "\n",
            "\n",
            " BNA 2 \n",
            " 1,04 0,62 0,62 1,02 1,71 -0,41 1,08 1,16 \n",
            "\n"
          ]
        }
      ]
    }
  ]
}